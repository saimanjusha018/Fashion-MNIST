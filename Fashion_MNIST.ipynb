{
  "nbformat": 4,
  "nbformat_minor": 0,
  "metadata": {
    "colab": {
      "provenance": []
    },
    "kernelspec": {
      "name": "python3",
      "display_name": "Python 3"
    },
    "language_info": {
      "name": "python"
    }
  },
  "cells": [
    {
      "cell_type": "markdown",
      "metadata": {
        "id": "XOcDO-dFSlne"
      },
      "source": [
        "Fix random seed for reproducibility\n"
      ]
    },
    {
      "cell_type": "code",
      "metadata": {
        "id": "4pqKzi02Soit"
      },
      "source": [
        "import numpy as np\n",
        "np.random.seed(123)"
      ],
      "execution_count": null,
      "outputs": []
    },
    {
      "cell_type": "markdown",
      "metadata": {
        "id": "RhMm69iSS5dx"
      },
      "source": [
        "Import the Sequential model type from Keras"
      ]
    },
    {
      "cell_type": "code",
      "metadata": {
        "id": "EB7Xz3X6SyLd"
      },
      "source": [
        "import tensorflow as tf\n",
        "from tensorflow.keras.models import Sequential\n",
        "from tensorflow.keras.layers import Flatten, Dense"
      ],
      "execution_count": null,
      "outputs": []
    },
    {
      "cell_type": "markdown",
      "metadata": {
        "id": "UMpILLjsTn1G"
      },
      "source": [
        "Load data from Fashion MNIST dataset\n"
      ]
    },
    {
      "cell_type": "code",
      "metadata": {
        "id": "IzT-RS1QTaKP"
      },
      "source": [
        "from tensorflow.keras.datasets import fashion_mnist\n",
        "(X_train, y_train), (X_test, y_test) = fashion_mnist.load_data()"
      ],
      "execution_count": null,
      "outputs": []
    },
    {
      "cell_type": "markdown",
      "metadata": {
        "id": "ryOc-ck-UVSP"
      },
      "source": [
        " **Returns**\n",
        "\n",
        " 2 tuples:\n",
        " \n",
        "    X_train, X_test: unit8 array of grayscale images with shape(num_samples,28,28)\n",
        "\n",
        "    y_train, y_test: unit8 array of labels(integers in range 0-9) with shape (num_samples,)"
      ]
    },
    {
      "cell_type": "markdown",
      "metadata": {
        "id": "bF2j1BUUVXqK"
      },
      "source": [
        "Look at the shape of dataset"
      ]
    },
    {
      "cell_type": "code",
      "metadata": {
        "colab": {
          "base_uri": "https://localhost:8080/"
        },
        "id": "h_OirxBWVWtM",
        "outputId": "9f139895-e1b7-4f4a-b53a-1bd701d2a78e"
      },
      "source": [
        "print(X_train.shape, y_train.shape, X_test.shape, y_test.shape)"
      ],
      "execution_count": null,
      "outputs": [
        {
          "output_type": "stream",
          "text": [
            "(60000, 28, 28) (60000,) (10000, 28, 28) (10000,)\n"
          ],
          "name": "stdout"
        }
      ]
    },
    {
      "cell_type": "markdown",
      "metadata": {
        "id": "dcS0ioCWVxa3"
      },
      "source": [
        "**Preprocess the input data**"
      ]
    },
    {
      "cell_type": "code",
      "metadata": {
        "colab": {
          "base_uri": "https://localhost:8080/"
        },
        "id": "0uob2Z1MUHEO",
        "outputId": "c89aef9a-1fb8-434e-d8a8-70d84d8145e4"
      },
      "source": [
        "print(X_train.shape[0])"
      ],
      "execution_count": null,
      "outputs": [
        {
          "output_type": "stream",
          "text": [
            "60000\n"
          ],
          "name": "stdout"
        }
      ]
    },
    {
      "cell_type": "code",
      "metadata": {
        "colab": {
          "base_uri": "https://localhost:8080/",
          "height": 281
        },
        "id": "XvCXobihWCaM",
        "outputId": "6b62c4fe-eed4-411e-df72-a6a413b0b1a1"
      },
      "source": [
        "#Display the original image from X_train set\n",
        "import matplotlib.pyplot as plt\n",
        "%matplotlib inline\n",
        "\n",
        "plt.figure(figsize =(20,10))\n",
        "\n",
        "#display original image\n",
        "ax = plt.subplot(2,1,1)\n",
        "plt.imshow(X_train[0].reshape(28,28))\n",
        "plt.gray()\n",
        "\n",
        "ax.get_xaxis().set_visible(False)\n",
        "ax.get_yaxis().set_visible(False)\n",
        "\n",
        "plt.show()"
      ],
      "execution_count": null,
      "outputs": [
        {
          "output_type": "display_data",
          "data": {
            "image/png": "[encoded data removed]",
            "text/plain": [
              "<Figure size 1440x720 with 1 Axes>"
            ]
          },
          "metadata": {
            "tags": [],
            "needs_background": "light"
          }
        }
      ]
    },
    {
      "cell_type": "markdown",
      "metadata": {
        "id": "XHjLL9SsXOyV"
      },
      "source": [
        "Print pixel value for above image"
      ]
    },
    {
      "cell_type": "code",
      "metadata": {
        "colab": {
          "base_uri": "https://localhost:8080/"
        },
        "id": "wtdDHqo0XDC0",
        "outputId": "40f18d7c-8c6a-4f03-bccc-93ca1247fc43"
      },
      "source": [
        "image1_array = X_train[0].reshape(28,28)\n",
        "np.set_printoptions(linewidth=150)\n",
        "image1_array"
      ],
      "execution_count": null,
      "outputs": [
        {
          "output_type": "execute_result",
          "data": {
            "text/plain": [
              "array([[  0,   0,   0,   0,   0,   0,   0,   0,   0,   0,   0,   0,   0,   0,   0,   0,   0,   0,   0,   0,   0,   0,   0,   0,   0,   0,   0,   0],\n",
              "       [  0,   0,   0,   0,   0,   0,   0,   0,   0,   0,   0,   0,   0,   0,   0,   0,   0,   0,   0,   0,   0,   0,   0,   0,   0,   0,   0,   0],\n",
              "       [  0,   0,   0,   0,   0,   0,   0,   0,   0,   0,   0,   0,   0,   0,   0,   0,   0,   0,   0,   0,   0,   0,   0,   0,   0,   0,   0,   0],\n",
              "       [  0,   0,   0,   0,   0,   0,   0,   0,   0,   0,   0,   0,   1,   0,   0,  13,  73,   0,   0,   1,   4,   0,   0,   0,   0,   1,   1,   0],\n",
              "       [  0,   0,   0,   0,   0,   0,   0,   0,   0,   0,   0,   0,   3,   0,  36, 136, 127,  62,  54,   0,   0,   0,   1,   3,   4,   0,   0,   3],\n",
              "       [  0,   0,   0,   0,   0,   0,   0,   0,   0,   0,   0,   0,   6,   0, 102, 204, 176, 134, 144, 123,  23,   0,   0,   0,   0,  12,  10,   0],\n",
              "       [  0,   0,   0,   0,   0,   0,   0,   0,   0,   0,   0,   0,   0,   0, 155, 236, 207, 178, 107, 156, 161, 109,  64,  23,  77, 130,  72,  15],\n",
              "       [  0,   0,   0,   0,   0,   0,   0,   0,   0,   0,   0,   1,   0,  69, 207, 223, 218, 216, 216, 163, 127, 121, 122, 146, 141,  88, 172,  66],\n",
              "       [  0,   0,   0,   0,   0,   0,   0,   0,   0,   1,   1,   1,   0, 200, 232, 232, 233, 229, 223, 223, 215, 213, 164, 127, 123, 196, 229,   0],\n",
              "       [  0,   0,   0,   0,   0,   0,   0,   0,   0,   0,   0,   0,   0, 183, 225, 216, 223, 228, 235, 227, 224, 222, 224, 221, 223, 245, 173,   0],\n",
              "       [  0,   0,   0,   0,   0,   0,   0,   0,   0,   0,   0,   0,   0, 193, 228, 218, 213, 198, 180, 212, 210, 211, 213, 223, 220, 243, 202,   0],\n",
              "       [  0,   0,   0,   0,   0,   0,   0,   0,   0,   1,   3,   0,  12, 219, 220, 212, 218, 192, 169, 227, 208, 218, 224, 212, 226, 197, 209,  52],\n",
              "       [  0,   0,   0,   0,   0,   0,   0,   0,   0,   0,   6,   0,  99, 244, 222, 220, 218, 203, 198, 221, 215, 213, 222, 220, 245, 119, 167,  56],\n",
              "       [  0,   0,   0,   0,   0,   0,   0,   0,   0,   4,   0,   0,  55, 236, 228, 230, 228, 240, 232, 213, 218, 223, 234, 217, 217, 209,  92,   0],\n",
              "       [  0,   0,   1,   4,   6,   7,   2,   0,   0,   0,   0,   0, 237, 226, 217, 223, 222, 219, 222, 221, 216, 223, 229, 215, 218, 255,  77,   0],\n",
              "       [  0,   3,   0,   0,   0,   0,   0,   0,   0,  62, 145, 204, 228, 207, 213, 221, 218, 208, 211, 218, 224, 223, 219, 215, 224, 244, 159,   0],\n",
              "       [  0,   0,   0,   0,  18,  44,  82, 107, 189, 228, 220, 222, 217, 226, 200, 205, 211, 230, 224, 234, 176, 188, 250, 248, 233, 238, 215,   0],\n",
              "       [  0,  57, 187, 208, 224, 221, 224, 208, 204, 214, 208, 209, 200, 159, 245, 193, 206, 223, 255, 255, 221, 234, 221, 211, 220, 232, 246,   0],\n",
              "       [  3, 202, 228, 224, 221, 211, 211, 214, 205, 205, 205, 220, 240,  80, 150, 255, 229, 221, 188, 154, 191, 210, 204, 209, 222, 228, 225,   0],\n",
              "       [ 98, 233, 198, 210, 222, 229, 229, 234, 249, 220, 194, 215, 217, 241,  65,  73, 106, 117, 168, 219, 221, 215, 217, 223, 223, 224, 229,  29],\n",
              "       [ 75, 204, 212, 204, 193, 205, 211, 225, 216, 185, 197, 206, 198, 213, 240, 195, 227, 245, 239, 223, 218, 212, 209, 222, 220, 221, 230,  67],\n",
              "       [ 48, 203, 183, 194, 213, 197, 185, 190, 194, 192, 202, 214, 219, 221, 220, 236, 225, 216, 199, 206, 186, 181, 177, 172, 181, 205, 206, 115],\n",
              "       [  0, 122, 219, 193, 179, 171, 183, 196, 204, 210, 213, 207, 211, 210, 200, 196, 194, 191, 195, 191, 198, 192, 176, 156, 167, 177, 210,  92],\n",
              "       [  0,   0,  74, 189, 212, 191, 175, 172, 175, 181, 185, 188, 189, 188, 193, 198, 204, 209, 210, 210, 211, 188, 188, 194, 192, 216, 170,   0],\n",
              "       [  2,   0,   0,   0,  66, 200, 222, 237, 239, 242, 246, 243, 244, 221, 220, 193, 191, 179, 182, 182, 181, 176, 166, 168,  99,  58,   0,   0],\n",
              "       [  0,   0,   0,   0,   0,   0,   0,  40,  61,  44,  72,  41,  35,   0,   0,   0,   0,   0,   0,   0,   0,   0,   0,   0,   0,   0,   0,   0],\n",
              "       [  0,   0,   0,   0,   0,   0,   0,   0,   0,   0,   0,   0,   0,   0,   0,   0,   0,   0,   0,   0,   0,   0,   0,   0,   0,   0,   0,   0],\n",
              "       [  0,   0,   0,   0,   0,   0,   0,   0,   0,   0,   0,   0,   0,   0,   0,   0,   0,   0,   0,   0,   0,   0,   0,   0,   0,   0,   0,   0]],\n",
              "      dtype=uint8)"
            ]
          },
          "metadata": {
            "tags": []
          },
          "execution_count": 19
        }
      ]
    },
    {
      "cell_type": "markdown",
      "metadata": {
        "id": "hnE_e0j5X1sr"
      },
      "source": [
        "Convert datatype to float32 and normalize data values to the range[0,1]\n",
        "\n",
        "Max value X_train/X_test can take is 255, so divide with 255"
      ]
    },
    {
      "cell_type": "code",
      "metadata": {
        "id": "wMjD_bcrXzoO"
      },
      "source": [
        "X_train = X_train.astype('float32')\n",
        "X_test = X_test.astype('float32')\n",
        "X_train /= 255.\n",
        "X_test /= 255."
      ],
      "execution_count": null,
      "outputs": []
    },
    {
      "cell_type": "markdown",
      "metadata": {
        "id": "ApAXAe7UYuWr"
      },
      "source": [
        "**Preprocess class labels**"
      ]
    },
    {
      "cell_type": "markdown",
      "metadata": {
        "id": "lPaPSSD9kucc"
      },
      "source": [
        "Look at the shape of class label data"
      ]
    },
    {
      "cell_type": "code",
      "metadata": {
        "colab": {
          "base_uri": "https://localhost:8080/"
        },
        "id": "8Acq_TDWkt3D",
        "outputId": "dec8566e-19af-4b93-d040-e6181ceebde4"
      },
      "source": [
        "print(y_train.shape)"
      ],
      "execution_count": null,
      "outputs": [
        {
          "output_type": "stream",
          "text": [
            "(60000,)\n"
          ],
          "name": "stdout"
        }
      ]
    },
    {
      "cell_type": "markdown",
      "metadata": {
        "id": "k5O4JKAulBho"
      },
      "source": [
        "We should have 10 different classes, one for each image but it looks like we have a 1D array"
      ]
    },
    {
      "cell_type": "code",
      "metadata": {
        "colab": {
          "base_uri": "https://localhost:8080/"
        },
        "id": "0Dz2S2-8XnRH",
        "outputId": "468b1abe-1049-4a64-f711-af82ecfea254"
      },
      "source": [
        "print(y_train[:10])"
      ],
      "execution_count": null,
      "outputs": [
        {
          "output_type": "stream",
          "text": [
            "[9 0 0 3 0 2 7 2 5 5]\n"
          ],
          "name": "stdout"
        }
      ]
    },
    {
      "cell_type": "markdown",
      "metadata": {
        "id": "TyI-fGkgldEc"
      },
      "source": [
        "Build a simple MLP"
      ]
    },
    {
      "cell_type": "code",
      "metadata": {
        "colab": {
          "base_uri": "https://localhost:8080/"
        },
        "id": "oroKgs-alYM5",
        "outputId": "7fa67405-0128-4e17-e3d0-ef425fe53388"
      },
      "source": [
        "model = tf.keras.Sequential([\n",
        "    tf.keras.layers.Flatten(input_shape =(28,28)),\n",
        "    tf.keras.layers.Dense(128, activation='relu'),\n",
        "    tf.keras.layers.Dense(10)\n",
        "])\n",
        "model.compile(optimizer='adam',\n",
        "              loss = tf.keras.losses.SparseCategoricalCrossentropy(from_logits=True),\n",
        "              metrics=['accuracy'])\n",
        "model.fit(X_train, y_train, batch_size=32, epochs=100, verbose=1)"
      ],
      "execution_count": null,
      "outputs": [
        {
          "output_type": "stream",
          "text": [
            "Epoch 1/100\n",
            "1875/1875 [==============================] - 4s 2ms/step - loss: 0.5013 - accuracy: 0.8247\n",
            "Epoch 2/100\n",
            "1875/1875 [==============================] - 3s 2ms/step - loss: 0.3733 - accuracy: 0.8652\n",
            "Epoch 3/100\n",
            "1875/1875 [==============================] - 3s 2ms/step - loss: 0.3339 - accuracy: 0.8788\n",
            "Epoch 4/100\n",
            "1875/1875 [==============================] - 3s 2ms/step - loss: 0.3124 - accuracy: 0.8861\n",
            "Epoch 5/100\n",
            "1875/1875 [==============================] - 3s 2ms/step - loss: 0.2942 - accuracy: 0.8922\n",
            "Epoch 6/100\n",
            "1875/1875 [==============================] - 3s 2ms/step - loss: 0.2784 - accuracy: 0.8963\n",
            "Epoch 7/100\n",
            "1875/1875 [==============================] - 3s 2ms/step - loss: 0.2656 - accuracy: 0.9012\n",
            "Epoch 8/100\n",
            "1875/1875 [==============================] - 3s 2ms/step - loss: 0.2568 - accuracy: 0.9048\n",
            "Epoch 9/100\n",
            "1875/1875 [==============================] - 3s 2ms/step - loss: 0.2479 - accuracy: 0.9079\n",
            "Epoch 10/100\n",
            "1875/1875 [==============================] - 3s 2ms/step - loss: 0.2373 - accuracy: 0.9110\n",
            "Epoch 11/100\n",
            "1875/1875 [==============================] - 3s 2ms/step - loss: 0.2305 - accuracy: 0.9133\n",
            "Epoch 12/100\n",
            "1875/1875 [==============================] - 3s 2ms/step - loss: 0.2230 - accuracy: 0.9164\n",
            "Epoch 13/100\n",
            "1875/1875 [==============================] - 3s 2ms/step - loss: 0.2147 - accuracy: 0.9200\n",
            "Epoch 14/100\n",
            "1875/1875 [==============================] - 3s 2ms/step - loss: 0.2102 - accuracy: 0.9206\n",
            "Epoch 15/100\n",
            "1875/1875 [==============================] - 3s 2ms/step - loss: 0.2036 - accuracy: 0.9235\n",
            "Epoch 16/100\n",
            "1875/1875 [==============================] - 3s 2ms/step - loss: 0.1960 - accuracy: 0.9258\n",
            "Epoch 17/100\n",
            "1875/1875 [==============================] - 3s 2ms/step - loss: 0.1934 - accuracy: 0.9277\n",
            "Epoch 18/100\n",
            "1875/1875 [==============================] - 3s 2ms/step - loss: 0.1862 - accuracy: 0.9297\n",
            "Epoch 19/100\n",
            "1875/1875 [==============================] - 3s 2ms/step - loss: 0.1811 - accuracy: 0.9315\n",
            "Epoch 20/100\n",
            "1875/1875 [==============================] - 3s 2ms/step - loss: 0.1780 - accuracy: 0.9335\n",
            "Epoch 21/100\n",
            "1875/1875 [==============================] - 3s 2ms/step - loss: 0.1746 - accuracy: 0.9354\n",
            "Epoch 22/100\n",
            "1875/1875 [==============================] - 3s 2ms/step - loss: 0.1702 - accuracy: 0.9361\n",
            "Epoch 23/100\n",
            "1875/1875 [==============================] - 3s 2ms/step - loss: 0.1649 - accuracy: 0.9381\n",
            "Epoch 24/100\n",
            "1875/1875 [==============================] - 3s 2ms/step - loss: 0.1619 - accuracy: 0.9386\n",
            "Epoch 25/100\n",
            "1875/1875 [==============================] - 3s 2ms/step - loss: 0.1581 - accuracy: 0.9405\n",
            "Epoch 26/100\n",
            "1875/1875 [==============================] - 3s 2ms/step - loss: 0.1549 - accuracy: 0.9418\n",
            "Epoch 27/100\n",
            "1875/1875 [==============================] - 3s 2ms/step - loss: 0.1507 - accuracy: 0.9434\n",
            "Epoch 28/100\n",
            "1875/1875 [==============================] - 3s 2ms/step - loss: 0.1467 - accuracy: 0.9444\n",
            "Epoch 29/100\n",
            "1875/1875 [==============================] - 3s 2ms/step - loss: 0.1457 - accuracy: 0.9455\n",
            "Epoch 30/100\n",
            "1875/1875 [==============================] - 3s 2ms/step - loss: 0.1419 - accuracy: 0.9480\n",
            "Epoch 31/100\n",
            "1875/1875 [==============================] - 3s 2ms/step - loss: 0.1372 - accuracy: 0.9487\n",
            "Epoch 32/100\n",
            "1875/1875 [==============================] - 3s 2ms/step - loss: 0.1360 - accuracy: 0.9486\n",
            "Epoch 33/100\n",
            "1875/1875 [==============================] - 3s 2ms/step - loss: 0.1339 - accuracy: 0.9500\n",
            "Epoch 34/100\n",
            "1875/1875 [==============================] - 3s 2ms/step - loss: 0.1294 - accuracy: 0.9511\n",
            "Epoch 35/100\n",
            "1875/1875 [==============================] - 3s 2ms/step - loss: 0.1287 - accuracy: 0.9521\n",
            "Epoch 36/100\n",
            "1875/1875 [==============================] - 3s 2ms/step - loss: 0.1252 - accuracy: 0.9533\n",
            "Epoch 37/100\n",
            "1875/1875 [==============================] - 3s 2ms/step - loss: 0.1221 - accuracy: 0.9542\n",
            "Epoch 38/100\n",
            "1875/1875 [==============================] - 3s 2ms/step - loss: 0.1202 - accuracy: 0.9543\n",
            "Epoch 39/100\n",
            "1875/1875 [==============================] - 3s 2ms/step - loss: 0.1195 - accuracy: 0.9553\n",
            "Epoch 40/100\n",
            "1875/1875 [==============================] - 3s 2ms/step - loss: 0.1168 - accuracy: 0.9571\n",
            "Epoch 41/100\n",
            "1875/1875 [==============================] - 3s 2ms/step - loss: 0.1128 - accuracy: 0.9577\n",
            "Epoch 42/100\n",
            "1875/1875 [==============================] - 3s 2ms/step - loss: 0.1125 - accuracy: 0.9579\n",
            "Epoch 43/100\n",
            "1875/1875 [==============================] - 3s 2ms/step - loss: 0.1088 - accuracy: 0.9600\n",
            "Epoch 44/100\n",
            "1875/1875 [==============================] - 3s 2ms/step - loss: 0.1083 - accuracy: 0.9587\n",
            "Epoch 45/100\n",
            "1875/1875 [==============================] - 3s 2ms/step - loss: 0.1065 - accuracy: 0.9594\n",
            "Epoch 46/100\n",
            "1875/1875 [==============================] - 3s 2ms/step - loss: 0.1038 - accuracy: 0.9617\n",
            "Epoch 47/100\n",
            "1875/1875 [==============================] - 3s 2ms/step - loss: 0.1032 - accuracy: 0.9614\n",
            "Epoch 48/100\n",
            "1875/1875 [==============================] - 3s 2ms/step - loss: 0.1007 - accuracy: 0.9620\n",
            "Epoch 49/100\n",
            "1875/1875 [==============================] - 3s 2ms/step - loss: 0.0978 - accuracy: 0.9635\n",
            "Epoch 50/100\n",
            "1875/1875 [==============================] - 3s 2ms/step - loss: 0.0976 - accuracy: 0.9636\n",
            "Epoch 51/100\n",
            "1875/1875 [==============================] - 3s 2ms/step - loss: 0.0963 - accuracy: 0.9637\n",
            "Epoch 52/100\n",
            "1875/1875 [==============================] - 3s 2ms/step - loss: 0.0946 - accuracy: 0.9648\n",
            "Epoch 53/100\n",
            "1875/1875 [==============================] - 3s 2ms/step - loss: 0.0940 - accuracy: 0.9640\n",
            "Epoch 54/100\n",
            "1875/1875 [==============================] - 3s 2ms/step - loss: 0.0933 - accuracy: 0.9647\n",
            "Epoch 55/100\n",
            "1875/1875 [==============================] - 3s 2ms/step - loss: 0.0903 - accuracy: 0.9664\n",
            "Epoch 56/100\n",
            "1875/1875 [==============================] - 3s 2ms/step - loss: 0.0905 - accuracy: 0.9655\n",
            "Epoch 57/100\n",
            "1875/1875 [==============================] - 3s 2ms/step - loss: 0.0865 - accuracy: 0.9675\n",
            "Epoch 58/100\n",
            "1875/1875 [==============================] - 3s 2ms/step - loss: 0.0865 - accuracy: 0.9680\n",
            "Epoch 59/100\n",
            "1875/1875 [==============================] - 3s 2ms/step - loss: 0.0856 - accuracy: 0.9681\n",
            "Epoch 60/100\n",
            "1875/1875 [==============================] - 3s 2ms/step - loss: 0.0840 - accuracy: 0.9684\n",
            "Epoch 61/100\n",
            "1875/1875 [==============================] - 3s 2ms/step - loss: 0.0814 - accuracy: 0.9691\n",
            "Epoch 62/100\n",
            "1875/1875 [==============================] - 3s 2ms/step - loss: 0.0816 - accuracy: 0.9690\n",
            "Epoch 63/100\n",
            "1875/1875 [==============================] - 3s 2ms/step - loss: 0.0818 - accuracy: 0.9696\n",
            "Epoch 64/100\n",
            "1875/1875 [==============================] - 3s 2ms/step - loss: 0.0788 - accuracy: 0.9704\n",
            "Epoch 65/100\n",
            "1875/1875 [==============================] - 3s 2ms/step - loss: 0.0784 - accuracy: 0.9703\n",
            "Epoch 66/100\n",
            "1875/1875 [==============================] - 3s 2ms/step - loss: 0.0776 - accuracy: 0.9707\n",
            "Epoch 67/100\n",
            "1875/1875 [==============================] - 3s 2ms/step - loss: 0.0763 - accuracy: 0.9714\n",
            "Epoch 68/100\n",
            "1875/1875 [==============================] - 3s 2ms/step - loss: 0.0753 - accuracy: 0.9717\n",
            "Epoch 69/100\n",
            "1875/1875 [==============================] - 3s 2ms/step - loss: 0.0740 - accuracy: 0.9724\n",
            "Epoch 70/100\n",
            "1875/1875 [==============================] - 3s 2ms/step - loss: 0.0745 - accuracy: 0.9724\n",
            "Epoch 71/100\n",
            "1875/1875 [==============================] - 3s 2ms/step - loss: 0.0729 - accuracy: 0.9728\n",
            "Epoch 72/100\n",
            "1875/1875 [==============================] - 3s 2ms/step - loss: 0.0713 - accuracy: 0.9729\n",
            "Epoch 73/100\n",
            "1875/1875 [==============================] - 3s 2ms/step - loss: 0.0738 - accuracy: 0.9724\n",
            "Epoch 74/100\n",
            "1875/1875 [==============================] - 3s 2ms/step - loss: 0.0709 - accuracy: 0.9740\n",
            "Epoch 75/100\n",
            "1875/1875 [==============================] - 3s 2ms/step - loss: 0.0680 - accuracy: 0.9744\n",
            "Epoch 76/100\n",
            "1875/1875 [==============================] - 3s 2ms/step - loss: 0.0691 - accuracy: 0.9734\n",
            "Epoch 77/100\n",
            "1875/1875 [==============================] - 3s 2ms/step - loss: 0.0676 - accuracy: 0.9743\n",
            "Epoch 78/100\n",
            "1875/1875 [==============================] - 3s 2ms/step - loss: 0.0658 - accuracy: 0.9750\n",
            "Epoch 79/100\n",
            "1875/1875 [==============================] - 3s 2ms/step - loss: 0.0663 - accuracy: 0.9744\n",
            "Epoch 80/100\n",
            "1875/1875 [==============================] - 3s 2ms/step - loss: 0.0656 - accuracy: 0.9755\n",
            "Epoch 81/100\n",
            "1875/1875 [==============================] - 3s 2ms/step - loss: 0.0659 - accuracy: 0.9749\n",
            "Epoch 82/100\n",
            "1875/1875 [==============================] - 3s 2ms/step - loss: 0.0626 - accuracy: 0.9767\n",
            "Epoch 83/100\n",
            "1875/1875 [==============================] - 3s 2ms/step - loss: 0.0657 - accuracy: 0.9760\n",
            "Epoch 84/100\n",
            "1875/1875 [==============================] - 3s 2ms/step - loss: 0.0616 - accuracy: 0.9772\n",
            "Epoch 85/100\n",
            "1875/1875 [==============================] - 3s 2ms/step - loss: 0.0623 - accuracy: 0.9766\n",
            "Epoch 86/100\n",
            "1875/1875 [==============================] - 3s 2ms/step - loss: 0.0617 - accuracy: 0.9768\n",
            "Epoch 87/100\n",
            "1875/1875 [==============================] - 3s 2ms/step - loss: 0.0628 - accuracy: 0.9768\n",
            "Epoch 88/100\n",
            "1875/1875 [==============================] - 3s 2ms/step - loss: 0.0600 - accuracy: 0.9778\n",
            "Epoch 89/100\n",
            "1875/1875 [==============================] - 3s 2ms/step - loss: 0.0601 - accuracy: 0.9779\n",
            "Epoch 90/100\n",
            "1875/1875 [==============================] - 3s 2ms/step - loss: 0.0563 - accuracy: 0.9789\n",
            "Epoch 91/100\n",
            "1875/1875 [==============================] - 3s 2ms/step - loss: 0.0578 - accuracy: 0.9783\n",
            "Epoch 92/100\n",
            "1875/1875 [==============================] - 3s 2ms/step - loss: 0.0589 - accuracy: 0.9782\n",
            "Epoch 93/100\n",
            "1875/1875 [==============================] - 3s 2ms/step - loss: 0.0562 - accuracy: 0.9788\n",
            "Epoch 94/100\n",
            "1875/1875 [==============================] - 3s 2ms/step - loss: 0.0550 - accuracy: 0.9797\n",
            "Epoch 95/100\n",
            "1875/1875 [==============================] - 3s 2ms/step - loss: 0.0545 - accuracy: 0.9799\n",
            "Epoch 96/100\n",
            "1875/1875 [==============================] - 3s 2ms/step - loss: 0.0552 - accuracy: 0.9789\n",
            "Epoch 97/100\n",
            "1875/1875 [==============================] - 3s 2ms/step - loss: 0.0577 - accuracy: 0.9779\n",
            "Epoch 98/100\n",
            "1875/1875 [==============================] - 3s 2ms/step - loss: 0.0538 - accuracy: 0.9800\n",
            "Epoch 99/100\n",
            "1875/1875 [==============================] - 3s 2ms/step - loss: 0.0547 - accuracy: 0.9796\n",
            "Epoch 100/100\n",
            "1875/1875 [==============================] - 3s 2ms/step - loss: 0.0533 - accuracy: 0.9795\n"
          ],
          "name": "stdout"
        },
        {
          "output_type": "execute_result",
          "data": {
            "text/plain": [
              "<tensorflow.python.keras.callbacks.History at 0x7fbb3c520110>"
            ]
          },
          "metadata": {
            "tags": []
          },
          "execution_count": 29
        }
      ]
    },
    {
      "cell_type": "code",
      "metadata": {
        "colab": {
          "base_uri": "https://localhost:8080/"
        },
        "id": "BWnf3W7Gnt8l",
        "outputId": "73b5b192-e233-4677-f678-295de12fad4b"
      },
      "source": [
        "from tensorflow.keras import initializers\n",
        "initializer = tf.keras.initializers.GlorotUniform()\n",
        "\n",
        "model = tf.keras.Sequential([\n",
        "    tf.keras.layers.Flatten(input_shape =(28,28)),\n",
        "    tf.keras.layers.Dense(128, activation='relu', kernel_initializer=initializer),\n",
        "    tf.keras.layers.Dense(10)\n",
        "])\n",
        "model.compile(optimizer='adam',\n",
        "              loss = tf.keras.losses.SparseCategoricalCrossentropy(from_logits=True),\n",
        "              metrics=['accuracy'])\n",
        "model.fit(X_train, y_train, batch_size=32, epochs=120, verbose=1)"
      ],
      "execution_count": null,
      "outputs": [
        {
          "output_type": "stream",
          "text": [
            "Epoch 1/120\n",
            "1875/1875 [==============================] - 4s 2ms/step - loss: 0.5041 - accuracy: 0.8233\n",
            "Epoch 2/120\n",
            "1875/1875 [==============================] - 3s 2ms/step - loss: 0.3760 - accuracy: 0.8653\n",
            "Epoch 3/120\n",
            "1875/1875 [==============================] - 3s 2ms/step - loss: 0.3386 - accuracy: 0.8759\n",
            "Epoch 4/120\n",
            "1875/1875 [==============================] - 3s 2ms/step - loss: 0.3148 - accuracy: 0.8849\n",
            "Epoch 5/120\n",
            "1875/1875 [==============================] - 3s 2ms/step - loss: 0.2951 - accuracy: 0.8915\n",
            "Epoch 6/120\n",
            "1875/1875 [==============================] - 3s 2ms/step - loss: 0.2808 - accuracy: 0.8960\n",
            "Epoch 7/120\n",
            "1875/1875 [==============================] - 3s 2ms/step - loss: 0.2660 - accuracy: 0.9009\n",
            "Epoch 8/120\n",
            "1875/1875 [==============================] - 3s 2ms/step - loss: 0.2567 - accuracy: 0.9052\n",
            "Epoch 9/120\n",
            "1875/1875 [==============================] - 3s 2ms/step - loss: 0.2484 - accuracy: 0.9080\n",
            "Epoch 10/120\n",
            "1875/1875 [==============================] - 3s 2ms/step - loss: 0.2377 - accuracy: 0.9115\n",
            "Epoch 11/120\n",
            "1875/1875 [==============================] - 3s 2ms/step - loss: 0.2316 - accuracy: 0.9136\n",
            "Epoch 12/120\n",
            "1875/1875 [==============================] - 3s 2ms/step - loss: 0.2239 - accuracy: 0.9162\n",
            "Epoch 13/120\n",
            "1875/1875 [==============================] - 3s 2ms/step - loss: 0.2146 - accuracy: 0.9184\n",
            "Epoch 14/120\n",
            "1875/1875 [==============================] - 3s 2ms/step - loss: 0.2098 - accuracy: 0.9211\n",
            "Epoch 15/120\n",
            "1875/1875 [==============================] - 3s 2ms/step - loss: 0.2035 - accuracy: 0.9242\n",
            "Epoch 16/120\n",
            "1875/1875 [==============================] - 3s 2ms/step - loss: 0.1977 - accuracy: 0.9249\n",
            "Epoch 17/120\n",
            "1875/1875 [==============================] - 3s 2ms/step - loss: 0.1915 - accuracy: 0.9283\n",
            "Epoch 18/120\n",
            "1875/1875 [==============================] - 3s 2ms/step - loss: 0.1878 - accuracy: 0.9286\n",
            "Epoch 19/120\n",
            "1875/1875 [==============================] - 3s 2ms/step - loss: 0.1821 - accuracy: 0.9312\n",
            "Epoch 20/120\n",
            "1875/1875 [==============================] - 3s 2ms/step - loss: 0.1795 - accuracy: 0.9314\n",
            "Epoch 21/120\n",
            "1875/1875 [==============================] - 3s 2ms/step - loss: 0.1730 - accuracy: 0.9355\n",
            "Epoch 22/120\n",
            "1875/1875 [==============================] - 3s 2ms/step - loss: 0.1695 - accuracy: 0.9369\n",
            "Epoch 23/120\n",
            "1875/1875 [==============================] - 3s 2ms/step - loss: 0.1640 - accuracy: 0.9388\n",
            "Epoch 24/120\n",
            "1875/1875 [==============================] - 3s 2ms/step - loss: 0.1620 - accuracy: 0.9387\n",
            "Epoch 25/120\n",
            "1875/1875 [==============================] - 3s 2ms/step - loss: 0.1552 - accuracy: 0.9412\n",
            "Epoch 26/120\n",
            "1875/1875 [==============================] - 3s 2ms/step - loss: 0.1536 - accuracy: 0.9408\n",
            "Epoch 27/120\n",
            "1875/1875 [==============================] - 3s 2ms/step - loss: 0.1498 - accuracy: 0.9446\n",
            "Epoch 28/120\n",
            "1875/1875 [==============================] - 3s 2ms/step - loss: 0.1463 - accuracy: 0.9449\n",
            "Epoch 29/120\n",
            "1875/1875 [==============================] - 3s 2ms/step - loss: 0.1434 - accuracy: 0.9465\n",
            "Epoch 30/120\n",
            "1875/1875 [==============================] - 3s 2ms/step - loss: 0.1395 - accuracy: 0.9477\n",
            "Epoch 31/120\n",
            "1875/1875 [==============================] - 3s 2ms/step - loss: 0.1361 - accuracy: 0.9480\n",
            "Epoch 32/120\n",
            "1875/1875 [==============================] - 3s 2ms/step - loss: 0.1340 - accuracy: 0.9496\n",
            "Epoch 33/120\n",
            "1875/1875 [==============================] - 3s 2ms/step - loss: 0.1315 - accuracy: 0.9501\n",
            "Epoch 34/120\n",
            "1875/1875 [==============================] - 3s 2ms/step - loss: 0.1271 - accuracy: 0.9519\n",
            "Epoch 35/120\n",
            "1875/1875 [==============================] - 3s 2ms/step - loss: 0.1260 - accuracy: 0.9522\n",
            "Epoch 36/120\n",
            "1875/1875 [==============================] - 3s 2ms/step - loss: 0.1227 - accuracy: 0.9541\n",
            "Epoch 37/120\n",
            "1875/1875 [==============================] - 3s 2ms/step - loss: 0.1193 - accuracy: 0.9544\n",
            "Epoch 38/120\n",
            "1875/1875 [==============================] - 3s 2ms/step - loss: 0.1196 - accuracy: 0.9551\n",
            "Epoch 39/120\n",
            "1875/1875 [==============================] - 3s 2ms/step - loss: 0.1175 - accuracy: 0.9549\n",
            "Epoch 40/120\n",
            "1875/1875 [==============================] - 3s 2ms/step - loss: 0.1134 - accuracy: 0.9571\n",
            "Epoch 41/120\n",
            "1875/1875 [==============================] - 3s 2ms/step - loss: 0.1123 - accuracy: 0.9580\n",
            "Epoch 42/120\n",
            "1875/1875 [==============================] - 3s 2ms/step - loss: 0.1109 - accuracy: 0.9586\n",
            "Epoch 43/120\n",
            "1875/1875 [==============================] - 3s 2ms/step - loss: 0.1073 - accuracy: 0.9597\n",
            "Epoch 44/120\n",
            "1875/1875 [==============================] - 3s 2ms/step - loss: 0.1057 - accuracy: 0.9601\n",
            "Epoch 45/120\n",
            "1875/1875 [==============================] - 3s 2ms/step - loss: 0.1029 - accuracy: 0.9610\n",
            "Epoch 46/120\n",
            "1875/1875 [==============================] - 3s 2ms/step - loss: 0.1026 - accuracy: 0.9614\n",
            "Epoch 47/120\n",
            "1875/1875 [==============================] - 3s 2ms/step - loss: 0.1000 - accuracy: 0.9624\n",
            "Epoch 48/120\n",
            "1875/1875 [==============================] - 3s 2ms/step - loss: 0.1007 - accuracy: 0.9616\n",
            "Epoch 49/120\n",
            "1875/1875 [==============================] - 3s 2ms/step - loss: 0.0970 - accuracy: 0.9636\n",
            "Epoch 50/120\n",
            "1875/1875 [==============================] - 3s 2ms/step - loss: 0.0962 - accuracy: 0.9642\n",
            "Epoch 51/120\n",
            "1875/1875 [==============================] - 3s 2ms/step - loss: 0.0939 - accuracy: 0.9650\n",
            "Epoch 52/120\n",
            "1875/1875 [==============================] - 3s 2ms/step - loss: 0.0926 - accuracy: 0.9647\n",
            "Epoch 53/120\n",
            "1875/1875 [==============================] - 3s 2ms/step - loss: 0.0915 - accuracy: 0.9656\n",
            "Epoch 54/120\n",
            "1875/1875 [==============================] - 3s 2ms/step - loss: 0.0885 - accuracy: 0.9657\n",
            "Epoch 55/120\n",
            "1875/1875 [==============================] - 3s 2ms/step - loss: 0.0891 - accuracy: 0.9661\n",
            "Epoch 56/120\n",
            "1875/1875 [==============================] - 3s 2ms/step - loss: 0.0897 - accuracy: 0.9655\n",
            "Epoch 57/120\n",
            "1875/1875 [==============================] - 3s 2ms/step - loss: 0.0832 - accuracy: 0.9687\n",
            "Epoch 58/120\n",
            "1875/1875 [==============================] - 3s 2ms/step - loss: 0.0851 - accuracy: 0.9679\n",
            "Epoch 59/120\n",
            "1875/1875 [==============================] - 3s 2ms/step - loss: 0.0844 - accuracy: 0.9684\n",
            "Epoch 60/120\n",
            "1875/1875 [==============================] - 3s 2ms/step - loss: 0.0810 - accuracy: 0.9694\n",
            "Epoch 61/120\n",
            "1875/1875 [==============================] - 3s 2ms/step - loss: 0.0821 - accuracy: 0.9684\n",
            "Epoch 62/120\n",
            "1875/1875 [==============================] - 3s 2ms/step - loss: 0.0788 - accuracy: 0.9701\n",
            "Epoch 63/120\n",
            "1875/1875 [==============================] - 3s 2ms/step - loss: 0.0751 - accuracy: 0.9715\n",
            "Epoch 64/120\n",
            "1875/1875 [==============================] - 3s 2ms/step - loss: 0.0789 - accuracy: 0.9701\n",
            "Epoch 65/120\n",
            "1875/1875 [==============================] - 3s 2ms/step - loss: 0.0751 - accuracy: 0.9721\n",
            "Epoch 66/120\n",
            "1875/1875 [==============================] - 3s 2ms/step - loss: 0.0751 - accuracy: 0.9717\n",
            "Epoch 67/120\n",
            "1875/1875 [==============================] - 3s 2ms/step - loss: 0.0747 - accuracy: 0.9726\n",
            "Epoch 68/120\n",
            "1875/1875 [==============================] - 3s 2ms/step - loss: 0.0716 - accuracy: 0.9726\n",
            "Epoch 69/120\n",
            "1875/1875 [==============================] - 3s 2ms/step - loss: 0.0730 - accuracy: 0.9722\n",
            "Epoch 70/120\n",
            "1875/1875 [==============================] - 3s 2ms/step - loss: 0.0717 - accuracy: 0.9729\n",
            "Epoch 71/120\n",
            "1875/1875 [==============================] - 3s 2ms/step - loss: 0.0712 - accuracy: 0.9727\n",
            "Epoch 72/120\n",
            "1875/1875 [==============================] - 3s 2ms/step - loss: 0.0709 - accuracy: 0.9731\n",
            "Epoch 73/120\n",
            "1875/1875 [==============================] - 3s 2ms/step - loss: 0.0659 - accuracy: 0.9754\n",
            "Epoch 74/120\n",
            "1875/1875 [==============================] - 3s 2ms/step - loss: 0.0676 - accuracy: 0.9741\n",
            "Epoch 75/120\n",
            "1875/1875 [==============================] - 3s 2ms/step - loss: 0.0671 - accuracy: 0.9747\n",
            "Epoch 76/120\n",
            "1875/1875 [==============================] - 3s 2ms/step - loss: 0.0656 - accuracy: 0.9749\n",
            "Epoch 77/120\n",
            "1875/1875 [==============================] - 3s 2ms/step - loss: 0.0662 - accuracy: 0.9750\n",
            "Epoch 78/120\n",
            "1875/1875 [==============================] - 3s 2ms/step - loss: 0.0635 - accuracy: 0.9766\n",
            "Epoch 79/120\n",
            "1875/1875 [==============================] - 3s 2ms/step - loss: 0.0637 - accuracy: 0.9766\n",
            "Epoch 80/120\n",
            "1875/1875 [==============================] - 3s 2ms/step - loss: 0.0612 - accuracy: 0.9771\n",
            "Epoch 81/120\n",
            "1875/1875 [==============================] - 3s 2ms/step - loss: 0.0625 - accuracy: 0.9767\n",
            "Epoch 82/120\n",
            "1875/1875 [==============================] - 3s 2ms/step - loss: 0.0633 - accuracy: 0.9761\n",
            "Epoch 83/120\n",
            "1875/1875 [==============================] - 3s 2ms/step - loss: 0.0617 - accuracy: 0.9774\n",
            "Epoch 84/120\n",
            "1875/1875 [==============================] - 3s 2ms/step - loss: 0.0581 - accuracy: 0.9783\n",
            "Epoch 85/120\n",
            "1875/1875 [==============================] - 3s 2ms/step - loss: 0.0605 - accuracy: 0.9779\n",
            "Epoch 86/120\n",
            "1875/1875 [==============================] - 3s 2ms/step - loss: 0.0591 - accuracy: 0.9779\n",
            "Epoch 87/120\n",
            "1875/1875 [==============================] - 3s 2ms/step - loss: 0.0580 - accuracy: 0.9781\n",
            "Epoch 88/120\n",
            "1875/1875 [==============================] - 3s 2ms/step - loss: 0.0559 - accuracy: 0.9794\n",
            "Epoch 89/120\n",
            "1875/1875 [==============================] - 3s 2ms/step - loss: 0.0576 - accuracy: 0.9786\n",
            "Epoch 90/120\n",
            "1875/1875 [==============================] - 3s 2ms/step - loss: 0.0561 - accuracy: 0.9789\n",
            "Epoch 91/120\n",
            "1875/1875 [==============================] - 3s 2ms/step - loss: 0.0552 - accuracy: 0.9793\n",
            "Epoch 92/120\n",
            "1875/1875 [==============================] - 3s 2ms/step - loss: 0.0554 - accuracy: 0.9793\n",
            "Epoch 93/120\n",
            "1875/1875 [==============================] - 3s 2ms/step - loss: 0.0551 - accuracy: 0.9796\n",
            "Epoch 94/120\n",
            "1875/1875 [==============================] - 3s 2ms/step - loss: 0.0492 - accuracy: 0.9816\n",
            "Epoch 95/120\n",
            "1875/1875 [==============================] - 3s 2ms/step - loss: 0.0525 - accuracy: 0.9798\n",
            "Epoch 96/120\n",
            "1875/1875 [==============================] - 3s 2ms/step - loss: 0.0563 - accuracy: 0.9797\n",
            "Epoch 97/120\n",
            "1875/1875 [==============================] - 3s 2ms/step - loss: 0.0507 - accuracy: 0.9804\n",
            "Epoch 98/120\n",
            "1875/1875 [==============================] - 3s 2ms/step - loss: 0.0501 - accuracy: 0.9807\n",
            "Epoch 99/120\n",
            "1875/1875 [==============================] - 3s 2ms/step - loss: 0.0501 - accuracy: 0.9806\n",
            "Epoch 100/120\n",
            "1875/1875 [==============================] - 3s 2ms/step - loss: 0.0503 - accuracy: 0.9818\n",
            "Epoch 101/120\n",
            "1875/1875 [==============================] - 3s 2ms/step - loss: 0.0531 - accuracy: 0.9806\n",
            "Epoch 102/120\n",
            "1875/1875 [==============================] - 3s 2ms/step - loss: 0.0487 - accuracy: 0.9815\n",
            "Epoch 103/120\n",
            "1875/1875 [==============================] - 3s 2ms/step - loss: 0.0468 - accuracy: 0.9827\n",
            "Epoch 104/120\n",
            "1875/1875 [==============================] - 3s 2ms/step - loss: 0.0476 - accuracy: 0.9823\n",
            "Epoch 105/120\n",
            "1875/1875 [==============================] - 3s 2ms/step - loss: 0.0477 - accuracy: 0.9822\n",
            "Epoch 106/120\n",
            "1875/1875 [==============================] - 3s 2ms/step - loss: 0.0483 - accuracy: 0.9820\n",
            "Epoch 107/120\n",
            "1875/1875 [==============================] - 3s 2ms/step - loss: 0.0473 - accuracy: 0.9824\n",
            "Epoch 108/120\n",
            "1875/1875 [==============================] - 3s 2ms/step - loss: 0.0475 - accuracy: 0.9826\n",
            "Epoch 109/120\n",
            "1875/1875 [==============================] - 3s 2ms/step - loss: 0.0439 - accuracy: 0.9838\n",
            "Epoch 110/120\n",
            "1875/1875 [==============================] - 3s 2ms/step - loss: 0.0482 - accuracy: 0.9821\n",
            "Epoch 111/120\n",
            "1875/1875 [==============================] - 3s 2ms/step - loss: 0.0460 - accuracy: 0.9829\n",
            "Epoch 112/120\n",
            "1875/1875 [==============================] - 3s 2ms/step - loss: 0.0466 - accuracy: 0.9824\n",
            "Epoch 113/120\n",
            "1875/1875 [==============================] - 3s 2ms/step - loss: 0.0441 - accuracy: 0.9834\n",
            "Epoch 114/120\n",
            "1875/1875 [==============================] - 3s 2ms/step - loss: 0.0429 - accuracy: 0.9838\n",
            "Epoch 115/120\n",
            "1875/1875 [==============================] - 3s 2ms/step - loss: 0.0424 - accuracy: 0.9847\n",
            "Epoch 116/120\n",
            "1875/1875 [==============================] - 3s 2ms/step - loss: 0.0442 - accuracy: 0.9835\n",
            "Epoch 117/120\n",
            "1875/1875 [==============================] - 3s 2ms/step - loss: 0.0420 - accuracy: 0.9837\n",
            "Epoch 118/120\n",
            "1875/1875 [==============================] - 3s 2ms/step - loss: 0.0431 - accuracy: 0.9834\n",
            "Epoch 119/120\n",
            "1875/1875 [==============================] - 3s 2ms/step - loss: 0.0385 - accuracy: 0.9855\n",
            "Epoch 120/120\n",
            "1875/1875 [==============================] - 3s 2ms/step - loss: 0.0430 - accuracy: 0.9839\n"
          ],
          "name": "stdout"
        },
        {
          "output_type": "execute_result",
          "data": {
            "text/plain": [
              "<tensorflow.python.keras.callbacks.History at 0x7f5ac9de9f10>"
            ]
          },
          "metadata": {
            "tags": []
          },
          "execution_count": 23
        }
      ]
    },
    {
      "cell_type": "code",
      "metadata": {
        "id": "6yYBTSxdqvFh"
      },
      "source": [],
      "execution_count": null,
      "outputs": []
    }
  ]
}